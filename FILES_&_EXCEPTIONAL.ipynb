{
  "nbformat": 4,
  "nbformat_minor": 0,
  "metadata": {
    "colab": {
      "provenance": []
    },
    "kernelspec": {
      "name": "python3",
      "display_name": "Python 3"
    },
    "language_info": {
      "name": "python"
    }
  },
  "cells": [
    {
      "cell_type": "markdown",
      "source": [
        "#FILES & EXCEPTIONAL HANDLING\n"
      ],
      "metadata": {
        "id": "aILJ4RsMsis_"
      }
    },
    {
      "cell_type": "markdown",
      "source": [
        "#Q.1. What is the difference between interpreted and compiled languages ?\n",
        "\n",
        "ANS -\n",
        "Interpreted Languages: These languages are executed line-by-line by an interpreter at runtime. Examples include Python and JavaScript. They are generally slower but allow for easier debugging and platform independence.\n",
        "\n",
        "Compiled Languages: These languages are converted into machine code by a compiler before execution. Examples include C and C++. They are faster because the code is pre-compiled, but debugging can be more challenging.\n",
        "\n",
        "This distinction is important for understanding how programming languages execute and their performance characteristics."
      ],
      "metadata": {
        "id": "PILxmD-BsqHy"
      }
    },
    {
      "cell_type": "markdown",
      "source": [
        "#Q.2. What is exception handling in Python ?\n",
        "\n",
        "ANS - Exception handling in Python :-\n",
        "\n",
        "In Python, exception handling is a crucial aspect of writing robust and reliable code that can manage unexpected situations or errors during program execution. When a program encounters an error that disrupts its normal flow, it's called an \"exception.\" Exception handling provides a mechanism to gracefully manage these exceptions instead of letting the program crash abruptly."
      ],
      "metadata": {
        "id": "R2_AcAqjtqzw"
      }
    },
    {
      "cell_type": "markdown",
      "source": [
        "#Q.3. What is the purpose of the finally block in exception handling ?\n",
        "\n",
        "ANS - The finally block in exception handling ensures that a specific block of code is executed, regardless of whether an exception is thrown or caught within the try block. Its primary purpose is to provide a mechanism for resource cleanup and guaranteeing the execution of essential code, such as closing files or releasing network connections."
      ],
      "metadata": {
        "id": "-oByBA6BuPPL"
      }
    },
    {
      "cell_type": "markdown",
      "source": [
        "#Q.4. What is logging in Python ?\n",
        "\n",
        "ANS - In Python, \"logging\" refers to the process of recording events that occur during the execution of a program. This is achieved using the built-in logging module, which provides a flexible and powerful framework for generating and managing log messages."
      ],
      "metadata": {
        "id": "fEWpguL-u-l4"
      }
    },
    {
      "cell_type": "markdown",
      "source": [
        "#Q.5. What is the significance of the  __ del __ method in Python ?\n",
        "\n",
        "ANS - Key Significance:\n",
        "\n",
        "Resource Cleanup:\n",
        "\n",
        "The primary purpose of __ del __ is to provide a mechanism for an object to perform necessary cleanup tasks before it is finally destroyed by the garbage collector. This is particularly useful for managing external resources that are not automatically handled by Python's garbage collection, such as:\n",
        "- Closing open files or network connections.\n",
        "- Releasing locks or other system resources.\n",
        "- Cleaning up temporary directories or files.\n",
        "\n",
        "Destructor-like Behavior:\n",
        "It mimics the concept of a destructor found in other object-oriented languages like C++ or Java, allowing for finalization logic when an object's lifecycle ends.\n",
        "\n",
        "Automatic Invocation:\n",
        "Unlike regular methods that are explicitly called, __del__ is automatically invoked by the Python interpreter when an object's reference count drops to zero and the object is about to be garbage collected."
      ],
      "metadata": {
        "id": "5mZrZy2cvuBX"
      }
    },
    {
      "cell_type": "markdown",
      "source": [
        "#Q.6. What is the difference between import and from ... import in Python ?\n",
        "\n",
        "ANS - In Python, both import and from ... import statements are used to bring modules or specific components from modules into the current namespace, but they differ in how they achieve this and the implications for code readability and potential naming conflicts.\n",
        "\n",
        "1. import module\n",
        "\n",
        "- Behavior: This statement imports the entire module object into the current namespace. To access any functions, classes, or variables defined within that module, you must prefix them with the module's name using dot notation.\n",
        "\n",
        "2. from module import name1, name2, ...\n",
        "\n",
        "- Behavior: This statement directly imports specific name1, name2, etc., (which can be functions, classes, or variables) from the module into the current namespace. You can then use these imported elements without prefixing them with the module's name."
      ],
      "metadata": {
        "id": "SZiwcRANx3WV"
      }
    },
    {
      "cell_type": "markdown",
      "source": [
        "#Q.7. How can you handle multiple exceptions in Python ?\n",
        "\n",
        "ANS - In Python, multiple exceptions can be handled within a try-except block in several ways:\n",
        "\n",
        "- Multiple except blocks: This approach involves defining a separate except block for each specific exception type you want to handle individually. This is useful when different exception types require distinct handling logic."
      ],
      "metadata": {
        "id": "PnCghrUf1FhJ"
      }
    },
    {
      "cell_type": "code",
      "execution_count": null,
      "metadata": {
        "id": "mVk8vmHFsdGQ"
      },
      "outputs": [],
      "source": [
        "    try:\n",
        "        # Code that might raise exceptions\n",
        "        result = 10 / 0\n",
        "    except ZeroDivisionError:\n",
        "        print(\"Cannot divide by zero!\")\n",
        "    except ValueError:\n",
        "        print(\"Invalid value encountered.\")"
      ]
    },
    {
      "cell_type": "markdown",
      "source": [
        "- Single except block with a tuple of exceptions: If you want to handle multiple exception types with the same code logic, you can group them in a tuple within a single except block."
      ],
      "metadata": {
        "id": "dUJ8Nv2A1m1v"
      }
    },
    {
      "cell_type": "code",
      "source": [
        "    try:\n",
        "        # Code that might raise exceptions\n",
        "        my_list = [1, 2, 3]\n",
        "        print(my_list[5])\n",
        "    except (IndexError, TypeError) as e:\n",
        "        print(f\"An error occurred: {e}\")"
      ],
      "metadata": {
        "id": "fA5BTs7m1uk3"
      },
      "execution_count": null,
      "outputs": []
    },
    {
      "cell_type": "markdown",
      "source": [
        "#Q.8. What is the purpose of the with statement when handling files in Python ?\n",
        "\n",
        "ANS - The primary purpose of the with statement when handling files in Python is to ensure proper resource management, specifically the automatic closing of the file once operations within the with block are completed.\n",
        "\n",
        "This offers several key benefits:\n",
        "\n",
        "- Guaranteed File Closure:\n",
        "The with statement, in conjunction with context managers (like the file object returned by open()), ensures that the file is closed automatically when the with block is exited, regardless of whether the exit is normal or due to an exception. This prevents resource leaks and potential data corruption.\n",
        "\n",
        "- Simplified Code:\n",
        "It eliminates the need for explicit file.close() calls, reducing boilerplate code and making the program more concise and readable.\n",
        "\n",
        "- Enhanced Robustness:\n",
        "By automatically handling the closing of the file, it makes the code more robust against errors, as it prevents files from remaining open indefinitely if an unhandled exception occurs before a manual close() call."
      ],
      "metadata": {
        "id": "w7t2Ngmm11sA"
      }
    },
    {
      "cell_type": "markdown",
      "source": [
        "#Q.9. What is the difference between multithreading and multiprocessing ?\n",
        "\n",
        "ANS - Multithreading and multiprocessing are both techniques to achieve concurrency, but they differ in how they utilize system resources. Multithreading involves multiple threads within a single process, sharing the same memory space, while multiprocessing involves multiple independent processes, each with its own memory space."
      ],
      "metadata": {
        "id": "g4lHKreZ7C4S"
      }
    },
    {
      "cell_type": "markdown",
      "source": [
        "#Q.10. What are the advantages of using logging in a program ?\n",
        "\n",
        "ANS - Logging offers numerous advantages in programming, primarily aiding in debugging, performance monitoring, and security. It provides a detailed record of application behavior, allowing developers to understand how the program functions, track events, and identify issues, including errors, warnings, and other critical events. Logs also help in analyzing application behavior over time, detecting usage patterns, and even facilitating incident investigations."
      ],
      "metadata": {
        "id": "kNM81OOI7XID"
      }
    },
    {
      "cell_type": "markdown",
      "source": [
        "#Q.11. What is memory management in Python ?\n",
        "\n",
        "ANS - Memory management in Python refers to the system that handles the allocation and deallocation of memory resources used by Python programs. Unlike languages like C or C++, where developers often manage memory manually, Python provides automatic memory management, simplifying the development process."
      ],
      "metadata": {
        "id": "snFZhuKy7s6q"
      }
    },
    {
      "cell_type": "markdown",
      "source": [
        "#Q.12. What are the basic steps involved in exception handling in Python ?\n",
        "\n",
        "ANS - The basic steps involved in exception handling in Python using try, except, else, and finally blocks are as follows:\n",
        "\n",
        "- try Block:\n",
        "Place the code that might potentially raise an exception within the try block. Python will attempt to execute this code.\n",
        "\n",
        "- except Block(s):\n",
        "If an exception occurs within the try block, execution immediately jumps to the corresponding except block.\n",
        "\n",
        "You can have multiple except blocks to handle different types of exceptions specifically. The first except block that matches the raised exception type will be executed.\n",
        "\n",
        "- A general except block (e.g., except Exception as e:) can be used to catch any exception not caught by more specific except blocks.\n",
        "\n",
        "- else Block (Optional):\n",
        "The else block is executed only if no exceptions are raised within the try block.\n",
        "\n",
        "This is useful for code that should only run if the try block completes successfully.\n",
        "\n",
        "- finally Block (Optional):\n",
        "The finally block is always executed, regardless of whether an exception occurred or not, and whether it was handled or not.\n",
        "\n",
        "This block is typically used for cleanup operations, such as closing files or releasing resources, ensuring these actions happen even if an error disrupts normal execution."
      ],
      "metadata": {
        "id": "iX5CuAm-7_0e"
      }
    },
    {
      "cell_type": "markdown",
      "source": [
        "#Q.13. Why is memory management important in Python ?\n",
        "\n",
        "ANS - Memory management is important in Python, despite its automatic nature, for several key reasons:\n",
        "\n",
        "- Efficiency and Performance:\n",
        "While Python handles memory allocation and deallocation automatically (using mechanisms like reference counting and garbage collection), understanding how it works allows developers to write more memory-efficient code. This can lead to faster program execution and reduced resource consumption, especially in applications dealing with large datasets or requiring high performance.\n",
        "\n",
        "- Preventing Memory Leaks:\n",
        "Improper handling of object references can lead to memory leaks, where unused objects are not properly deallocated, gradually consuming more and more memory. Understanding Python's memory management helps in identifying and preventing such issues, ensuring program stability and longevity.\n",
        "\n",
        "- Resource Optimization:\n",
        "Efficient memory management ensures that your Python programs do not unnecessarily hog system resources. This is crucial in environments where resources are limited, such as embedded systems or shared server environments, allowing other applications to run smoothly.\n",
        "\n",
        "- Debugging and Troubleshooting:\n",
        "Knowledge of Python's memory model helps in debugging memory-related issues, such as excessive memory usage or unexpected program slowdowns. Understanding how objects are stored and deallocated provides insights into potential bottlenecks.\n",
        "\n",
        "- Optimizing for Specific Scenarios:\n",
        "While Python's automatic memory management is generally effective, specific scenarios might benefit from targeted optimization. For example, using memory-efficient data structures (like array instead of list for numerical data) or understanding when to manually trigger garbage collection can significantly improve performance in certain applications."
      ],
      "metadata": {
        "id": "KtiE1uNu8_wy"
      }
    },
    {
      "cell_type": "markdown",
      "source": [
        "#Q.14. What is the role of try and except in exception handling ?\n",
        "\n",
        "ANS - In Python, the try and except statements are fundamental for exception handling, which allows a program to gracefully manage errors that occur during execution. The try block encloses code that might raise an exception, while the except block contains code to handle the exception if it occurs. This prevents the program from abruptly crashing and allows it to continue running, potentially with alternative actions or informative messages."
      ],
      "metadata": {
        "id": "E88nvR889adA"
      }
    },
    {
      "cell_type": "markdown",
      "source": [
        "#Q.15. How does Python's garbage collection system work ?\n",
        "\n",
        "ANS - Python's garbage collection system automatically reclaims memory occupied by objects that are no longer in use, preventing memory leaks. It primarily uses a hybrid approach combining reference counting and a cyclic garbage collector. Reference counting tracks the number of references to an object, and when it reaches zero, the object is immediately deallocated. The cyclic garbage collector handles circular references where objects refer to each other, preventing them from being deallocated by reference counting alone."
      ],
      "metadata": {
        "id": "RA1hmvBt91q0"
      }
    },
    {
      "cell_type": "markdown",
      "source": [
        "#Q.16. What is the purpose of the else block in exception handling ?\n",
        "\n",
        "ANS - The else block in exception handling, specifically within a try-except structure, is designed to execute code only when no exceptions are raised within the corresponding try block. It acts as a conditional block that runs when the try block executes successfully without any errors.\n",
        "\n",
        "- Purpose:\n",
        "\n",
        "The main purpose of the else block is to separate the code that might fail (and needs exception handling) from the code that should only run if everything goes well in the try block. This separation makes the code more readable and maintainable. It also allows for better organization of your program's logic, as the code within the else block is specifically tied to the successful completion of the try block."
      ],
      "metadata": {
        "id": "r3XUNj_3-KTo"
      }
    },
    {
      "cell_type": "markdown",
      "source": [
        "#Q.17. What are the common logging levels in Python ?\n",
        "\n",
        "ANS - Python's built-in logging module defines several standard logging levels, each representing a different severity of an event. These levels, from lowest to highest severity, are:\n",
        "\n",
        "- DEBUG:\n",
        "Provides detailed information, typically useful only when diagnosing problems.\n",
        "- INFO:\n",
        "Confirms that things are working as expected.\n",
        "- WARNING:\n",
        "Indicates that something unexpected happened or could happen soon (e.g., \"disk space low\"). The software is still working as expected.\n",
        "- ERROR:\n",
        "Signifies a more serious problem where the software has not been able to perform some function.\n",
        "- CRITICAL:\n",
        "Represents a severe error indicating that the program itself may be unable to continue running."
      ],
      "metadata": {
        "id": "6tK6o6Ou-jEx"
      }
    },
    {
      "cell_type": "markdown",
      "source": [
        "#Q.18. What is the difference between os.fork() and multiprocessing in Python ?\n",
        "\n",
        "ANS - The os.fork() function and the multiprocessing module in Python both enable the creation of new processes, but they differ significantly in their level of abstraction, portability, and intended use.\n",
        "\n",
        "1. Abstraction Level:\n",
        "- os.fork():\n",
        "This is a low-level system call available on POSIX-compliant systems (like Linux, macOS). It creates a new child process that is an almost exact copy of the parent process, including its memory space, open file descriptors, and environment variables. The child process then continues execution from the point of the fork() call.\n",
        "\n",
        "- multiprocessing module:\n",
        "This provides a higher-level, more abstract API for creating and managing processes. It handles the complexities of process creation, inter-process communication (IPC), and synchronization, making it easier to write parallel programs."
      ],
      "metadata": {
        "id": "0gH_NMEy-_SG"
      }
    },
    {
      "cell_type": "markdown",
      "source": [
        "#Q.19. What is the importance of closing a file in Python ?\n",
        "\n",
        "ANS - Closing a file in Python is important for several reasons, primarily related to resource management, data integrity, and preventing issues like file locking:\n",
        "\n",
        "- Resource Management:\n",
        "Operating systems have limits on the number of files a program can have open simultaneously. Failing to close files can lead to exceeding these limits, causing errors or hindering the performance of your application and potentially the entire system. Closing files releases the resources (memory, file handles) allocated by the operating system, making them available for other processes.\n",
        "\n",
        "- Data Integrity:\n",
        "When writing to a file, data is often buffered in memory before being physically written to disk. If a file is not explicitly closed, or if your program terminates unexpectedly (e.g., due to a crash or power loss), the buffered data might not be flushed to the disk, leading to incomplete or corrupted files. Closing the file ensures that all buffered data is written to the persistent storage.\n",
        "\n",
        "- File Locking:\n",
        "In some operating systems, an open file might be locked, preventing other programs or users from accessing or modifying it. This can cause issues if multiple processes need to interact with the same file. Closing the file releases these locks, allowing other applications to access it.\n",
        "\n",
        "- Preeventing Unexpected Behavior:\n",
        "Leaving files open unnecessarily can lead to unpredictable behavior in your program, especially in complex applications where multiple parts of the code might interact with files. Explicitly closing files makes your code more robust and easier to debug."
      ],
      "metadata": {
        "id": "jNdmf70s_rYm"
      }
    },
    {
      "cell_type": "markdown",
      "source": [
        "#Q.20. What is the difference between file.read() and file.readline() in Python ?\n",
        "\n",
        "ANS - In Python, file.read() and file.readline() are both methods used to read data from a file object, but they differ in how much data they retrieve:\n",
        "\n",
        "- file.read():\n",
        "- Reads the entire content of the file and returns it as a single string.\n",
        "Takes an optional size argument. If size is provided, it reads at most that many bytes from the file. If size is omitted or negative, it reads until the end of the file.\n",
        "\n",
        "- Suitable for smaller files where loading the entire content into memory is acceptable.\n",
        "- file.readline():\n",
        "Reads a single line from the file until a newline character (\\n) is encountered or the end of the file is reached.\n",
        "\n",
        "- Returns the read line as a string, including the newline character if present.\n",
        "Takes an optional size argument, which specifies the maximum number of characters to read from the line.\n",
        "- More efficient for large files as it reads data line by line, reducing memory consumption."
      ],
      "metadata": {
        "id": "pqO1JCD3B_vt"
      }
    },
    {
      "cell_type": "markdown",
      "source": [
        "#Q.21. What is the logging module in Python used for ?\n",
        "\n",
        "ANS - The logging module in Python is used to track events and messages during program execution, facilitating debugging, error tracking, and monitoring application behavior. It provides a structured and flexible way to record information, offering different severity levels (DEBUG, INFO, WARNING, ERROR, CRITICAL) and the ability to direct logs to various destinations like files, databases, or external services."
      ],
      "metadata": {
        "id": "Xq-E0mQ6C2Rz"
      }
    },
    {
      "cell_type": "markdown",
      "source": [
        "#Q.22. What is the os module in Python used for in file handling ?\n",
        "\n",
        "ANS - The logging module in Python is used to track events and messages during program execution, facilitating debugging, error tracking, and monitoring application behavior. It provides a structured and flexible way to record information, offering different severity levels (DEBUG, INFO, WARNING, ERROR, CRITICAL) and the ability to direct logs to various destinations like files, databases, or external services."
      ],
      "metadata": {
        "id": "ds58WTVSDNqr"
      }
    },
    {
      "cell_type": "markdown",
      "source": [
        "#Q.23. What are the challenges associated with memory management in Python ?\n",
        "\n",
        "ANS - Python's automatic memory management, while convenient, presents several challenges:\n",
        "\n",
        "- Memory Leaks from Circular References:\n",
        "Python's primary memory management mechanism, reference counting, cannot detect and free objects involved in circular references. This occurs when two or more objects reference each other, forming a cycle, even if no other parts of the program reference them. The cyclic garbage collector addresses this, but it adds overhead.\n",
        "- High Memory Consumption:\n",
        "Compared to languages with manual memory management, Python can consume more memory. This is partly due to its object-oriented nature, where everything is an object, and the overhead associated with storing reference counts and other metadata.\n",
        "- Performance Overhead of Garbage Collection:\n",
        "While automatic, the garbage collection process, especially for cyclic references, can introduce performance overhead, particularly in memory-intensive applications or when dealing with large datasets. The timing of garbage collection can also be unpredictable, potentially causing pauses in execution."
      ],
      "metadata": {
        "id": "a295SgiBDxMM"
      }
    },
    {
      "cell_type": "markdown",
      "source": [
        "#Q.24. How do you raise an exception manually in Python ?\n",
        "\n",
        "ANS - In Python, exceptions are raised manually using the raise keyword. This allows developers to explicitly signal an error or an exceptional condition that prevents the program from continuing its normal execution flow.\n",
        "\n",
        "- Here's how it works:\n",
        "- raise keyword: This keyword initiates the exception-raising process.\n",
        "- ExceptionType: This specifies the type of exception to be raised. You can use any of Python's built-in exception types (e.g., ValueError, TypeError, ZeroDivisionError, FileNotFoundError) or a custom exception class you have defined.\n",
        "- \"Optional error message\": This is a string that provides a more descriptive message about the error, which can be helpful for debugging. This message is passed as an argument to the exception class constructor."
      ],
      "metadata": {
        "id": "zvgLZQ2IEH9B"
      }
    },
    {
      "cell_type": "markdown",
      "source": [
        "#Q.25. Why is it important to use multithreading in certain applications ?\n",
        "\n",
        "ANS - Multithreading is important for applications where multiple tasks need to be performed concurrently, enhancing performance, responsiveness, and resource utilization. It allows applications to handle multiple operations simultaneously, making them more efficient and user-friendly.\n",
        "\n",
        "- Here's why multithreading is important in certain applications:\n",
        "1. Enhanced Performance:\n",
        "By dividing a program into smaller, independent threads, multithreading enables parallel execution of tasks, leading to faster overall performance and increased throughput.\n",
        "\n",
        "For example, a video editing application can use multithreading to process different parts of a video simultaneously, significantly reducing rendering time.\n",
        "- 2. Improved Responsiveness:\n",
        "Multithreading prevents a program from freezing or becoming unresponsive while performing a time-consuming task.\n",
        "\n",
        "A web browser, for instance, can continue to display content in one thread while another thread downloads a large file."
      ],
      "metadata": {
        "id": "oqjx5TE1EtDC"
      }
    },
    {
      "cell_type": "markdown",
      "source": [
        "#PRACTICAL QUESTION\n"
      ],
      "metadata": {
        "id": "I3awxAIgFgeK"
      }
    },
    {
      "cell_type": "markdown",
      "source": [
        "#Q.1. How can you open a file for writing in Python and write a string to it ?\n",
        "\n",
        "ANS - To open a file for writing in Python and write a string to it, you can use the built-in open() function with mode 'w'. Here's a simple example:"
      ],
      "metadata": {
        "id": "2DktcmshFmTO"
      }
    },
    {
      "cell_type": "code",
      "source": [
        "\n",
        "with open('example.txt', 'w') as file:\n",
        "    # Write a string to the file\n",
        "    file.write('Hello, world!')\n"
      ],
      "metadata": {
        "id": "6LHOtxcSFyHe"
      },
      "execution_count": 6,
      "outputs": []
    },
    {
      "cell_type": "markdown",
      "source": [
        "#Q.2. Write a Python program to read the contents of a file and print each line ."
      ],
      "metadata": {
        "id": "3LoNq0v5G30j"
      }
    },
    {
      "cell_type": "code",
      "source": [
        "# Open the file in read mode\n",
        "with open('example.txt', 'r') as file:\n",
        "    # Loop through each line in the file\n",
        "    for line in file:\n",
        "        # Print the line\n",
        "        print(line, end='')  # 'end' avoids adding extra newline\n"
      ],
      "metadata": {
        "colab": {
          "base_uri": "https://localhost:8080/"
        },
        "id": "xvG80GQdG_S1",
        "outputId": "5ad05f8d-30e1-4afc-8252-cb735bfc463d"
      },
      "execution_count": 2,
      "outputs": [
        {
          "output_type": "stream",
          "name": "stdout",
          "text": [
            "Hello, world!"
          ]
        }
      ]
    },
    {
      "cell_type": "markdown",
      "source": [
        "#Q.3. How would you handle a case where the file doesn't exist while trying to open it for reading ?"
      ],
      "metadata": {
        "id": "0XhUk6nsHEEG"
      }
    },
    {
      "cell_type": "code",
      "source": [
        "filename = 'example.txt'\n",
        "\n",
        "try:\n",
        "    with open(filename, 'r') as file:\n",
        "        for line in file:\n",
        "            print(line, end='')\n",
        "except FileNotFoundError:\n",
        "    print(f\"Error: The file '{filename}' does not exist.\")\n"
      ],
      "metadata": {
        "colab": {
          "base_uri": "https://localhost:8080/"
        },
        "id": "oANZs3fAHK-K",
        "outputId": "9f8751a4-fe21-4533-e881-89a155063873"
      },
      "execution_count": 4,
      "outputs": [
        {
          "output_type": "stream",
          "name": "stdout",
          "text": [
            "Hello, world!"
          ]
        }
      ]
    },
    {
      "cell_type": "markdown",
      "source": [
        "#Q.4. Write a Python script that reads from one file and writes its content to another file ."
      ],
      "metadata": {
        "id": "ZPJyN1ioHP7p"
      }
    },
    {
      "cell_type": "code",
      "source": [
        "\n",
        "input_file = 'input.txt'\n",
        "output_file = 'output.txt'\n",
        "\n",
        "try:\n",
        "    # Open the input file in read mode and the output file in write mode\n",
        "    with open(input_file, 'r') as infile, open(output_file, 'w') as outfile:\n",
        "        # Read the content from the input file and write it to the output file\n",
        "        content = infile.read()  # Reads the entire content of the file\n",
        "        outfile.write(content)\n",
        "\n",
        "    print(f\"Content from '{input_file}' has been written to '{output_file}'.\")\n",
        "\n",
        "except FileNotFoundError:\n",
        "    print(f\"Error: The file '{input_file}' does not exist.\")\n",
        "except IOError as e:\n",
        "    print(f\"Error: An IOError occurred. Details: {e}\")\n"
      ],
      "metadata": {
        "colab": {
          "base_uri": "https://localhost:8080/"
        },
        "id": "0cL7GMlAHlgP",
        "outputId": "50f7d7e5-c21b-49ca-ec7e-769e657b29bc"
      },
      "execution_count": 5,
      "outputs": [
        {
          "output_type": "stream",
          "name": "stdout",
          "text": [
            "Error: The file 'input.txt' does not exist.\n"
          ]
        }
      ]
    },
    {
      "cell_type": "markdown",
      "source": [
        "#Q.5. How would you catch and handle division by zero error in Python ?"
      ],
      "metadata": {
        "id": "D_seRWrxHwhp"
      }
    },
    {
      "cell_type": "code",
      "source": [
        "try:\n",
        "    result = 10 / 0\n",
        "except ZeroDivisionError:\n",
        "    print(\"Error: Division by zero is not allowed.\")\n",
        "else:\n",
        "    print(\"Result:\", result)\n",
        "finally:\n",
        "    print(\"This block always executes.\")\n"
      ],
      "metadata": {
        "colab": {
          "base_uri": "https://localhost:8080/"
        },
        "id": "Jlis8ro7H2fC",
        "outputId": "e44da109-f2ef-4c61-fbbd-84775495e8d0"
      },
      "execution_count": 7,
      "outputs": [
        {
          "output_type": "stream",
          "name": "stdout",
          "text": [
            "Error: Division by zero is not allowed.\n",
            "This block always executes.\n"
          ]
        }
      ]
    },
    {
      "cell_type": "markdown",
      "source": [
        "#Q.6. Write a Python program that logs an error message to a log file when a division by zero exception occurs ?"
      ],
      "metadata": {
        "id": "-ewS9ke3IK9z"
      }
    },
    {
      "cell_type": "code",
      "source": [
        "import logging\n",
        "\n",
        "# Configure logging\n",
        "logging.basicConfig(\n",
        "    filename='error.log',       # Log file name\n",
        "    level=logging.ERROR,        # Log level\n",
        "    format='%(asctime)s - %(levelname)s - %(message)s'\n",
        ")\n",
        "\n",
        "def divide(a, b):\n",
        "    try:\n",
        "        return a / b\n",
        "    except ZeroDivisionError as e:\n",
        "        logging.error(\"Attempted to divide by zero: %s / %s\", a, b)\n",
        "        return None\n",
        "\n",
        "# Example usage\n",
        "result = divide(10, 0)\n",
        "\n",
        "if result is None:\n",
        "    print(\"An error occurred. Check the 'error.log' file for details.\")\n",
        "else:\n",
        "    print(\"Result:\", result)\n"
      ],
      "metadata": {
        "colab": {
          "base_uri": "https://localhost:8080/"
        },
        "id": "Cjo89AqrIWIT",
        "outputId": "628bee53-943c-4dff-af5f-3c487d4a3596"
      },
      "execution_count": 8,
      "outputs": [
        {
          "output_type": "stream",
          "name": "stderr",
          "text": [
            "ERROR:root:Attempted to divide by zero: 10 / 0\n"
          ]
        },
        {
          "output_type": "stream",
          "name": "stdout",
          "text": [
            "An error occurred. Check the 'error.log' file for details.\n"
          ]
        }
      ]
    },
    {
      "cell_type": "markdown",
      "source": [
        "#Q.7. How do you log information at different levels (INFO, ERROR, WARNING) in Python using the logging module ?"
      ],
      "metadata": {
        "id": "oMk7j0RoIYd4"
      }
    },
    {
      "cell_type": "code",
      "source": [
        "import logging\n",
        "\n",
        "# Configure the logging system\n",
        "logging.basicConfig(\n",
        "    filename='app.log',\n",
        "    level=logging.DEBUG,  # Set the minimum logging level to capture everything\n",
        "    format='%(asctime)s - %(levelname)s - %(message)s'\n",
        ")\n",
        "\n",
        "# Logging messages at various levels\n",
        "logging.debug(\"This is a debug message.\")\n",
        "logging.info(\"This is an info message.\")\n",
        "logging.warning(\"This is a warning message.\")\n",
        "logging.error(\"This is an error message.\")\n",
        "logging.critical(\"This is a critical message.\")\n"
      ],
      "metadata": {
        "colab": {
          "base_uri": "https://localhost:8080/"
        },
        "id": "wxYl7QTJIpRZ",
        "outputId": "b93d01d6-e02c-48a3-b8ba-da1c44948881"
      },
      "execution_count": 9,
      "outputs": [
        {
          "output_type": "stream",
          "name": "stderr",
          "text": [
            "WARNING:root:This is a warning message.\n",
            "ERROR:root:This is an error message.\n",
            "CRITICAL:root:This is a critical message.\n"
          ]
        }
      ]
    },
    {
      "cell_type": "markdown",
      "source": [
        "#Q.8. Write a program to handle a file opening error using exception handling ."
      ],
      "metadata": {
        "id": "EdhszltTI8QV"
      }
    },
    {
      "cell_type": "code",
      "source": [
        "def read_file(filename):\n",
        "    try:\n",
        "        with open(filename, 'r') as file:\n",
        "            content = file.read()\n",
        "            print(\"File content:\\n\", content)\n",
        "    except FileNotFoundError:\n",
        "        print(f\"Error: The file '{filename}' was not found.\")\n",
        "    except IOError as e:\n",
        "        print(f\"An I/O error occurred: {e}\")\n",
        "\n",
        "# Example usage\n",
        "file_name = 'example.txt'  # Try a file that doesn't exist to see the error handling\n",
        "read_file(file_name)\n"
      ],
      "metadata": {
        "colab": {
          "base_uri": "https://localhost:8080/"
        },
        "id": "dl9ACvQWJKUM",
        "outputId": "a8cef573-14e9-4b52-f27a-5836965154f7"
      },
      "execution_count": 11,
      "outputs": [
        {
          "output_type": "stream",
          "name": "stdout",
          "text": [
            "File content:\n",
            " Hello, world!\n"
          ]
        }
      ]
    },
    {
      "cell_type": "markdown",
      "source": [
        "#Q.9. How can you read a file line by line and store its content in a list in Python ?"
      ],
      "metadata": {
        "id": "SFqDqE9XJWxS"
      }
    },
    {
      "cell_type": "code",
      "source": [
        "def read_file_to_list(filename):\n",
        "    try:\n",
        "        with open(filename, 'r') as file:\n",
        "            lines = file.readlines()  # Returns a list of lines\n",
        "            return [line.strip() for line in lines]  # Strip newline characters\n",
        "    except FileNotFoundError:\n",
        "        print(f\"Error: File '{filename}' not found.\")\n",
        "        return []\n",
        "    except IOError as e:\n",
        "        print(f\"An I/O error occurred: {e}\")\n",
        "        return []\n",
        "\n",
        "# Example usage\n",
        "file_name = 'example.txt'\n",
        "lines_list = read_file_to_list(file_name)\n",
        "\n",
        "print(\"Lines from file:\")\n",
        "for line in lines_list:\n",
        "    print(line)\n"
      ],
      "metadata": {
        "colab": {
          "base_uri": "https://localhost:8080/"
        },
        "id": "V61IRdLVJkn6",
        "outputId": "ea7ffcfc-71cd-4718-c1ca-b924ed2e1cc3"
      },
      "execution_count": 12,
      "outputs": [
        {
          "output_type": "stream",
          "name": "stdout",
          "text": [
            "Lines from file:\n",
            "Hello, world!\n"
          ]
        }
      ]
    },
    {
      "cell_type": "markdown",
      "source": [
        "#Q.10. How can you append data to an existing file in Python ?"
      ],
      "metadata": {
        "id": "MEjidKlOKBPU"
      }
    },
    {
      "cell_type": "code",
      "source": [
        "def append_to_file(filename, data):\n",
        "    try:\n",
        "        with open(filename, 'a') as file:\n",
        "            file.write(data + '\\n')\n",
        "        print(f\"Data appended to '{filename}' successfully.\")\n",
        "    except IOError as e:\n",
        "        print(f\"An I/O error occurred: {e}\")\n",
        "\n",
        "# Example usage\n",
        "append_to_file('example.txt', 'This is a new line of text.')\n"
      ],
      "metadata": {
        "colab": {
          "base_uri": "https://localhost:8080/"
        },
        "id": "MWZetaPgKJBd",
        "outputId": "211f34ba-7c7e-4c57-db46-e0ea3e5a3eb8"
      },
      "execution_count": 13,
      "outputs": [
        {
          "output_type": "stream",
          "name": "stdout",
          "text": [
            "Data appended to 'example.txt' successfully.\n"
          ]
        }
      ]
    },
    {
      "cell_type": "markdown",
      "source": [
        "#Q.11. Write a Python program that uses a try-except block to handle an error when attempting to access a dictionary key that doesn't exist."
      ],
      "metadata": {
        "id": "1wNl4sBZKQXy"
      }
    },
    {
      "cell_type": "code",
      "source": [
        "def get_value_from_dict(my_dict, key):\n",
        "    try:\n",
        "        value = my_dict[key]\n",
        "        print(f\"Value for '{key}': {value}\")\n",
        "    except KeyError:\n",
        "        print(f\"Error: Key '{key}' not found in the dictionary.\")\n",
        "\n",
        "# Example usage\n",
        "sample_dict = {\n",
        "    'name': 'Alice',\n",
        "    'age': 30,\n",
        "    'city': 'New York'\n",
        "}\n",
        "\n",
        "# Try accessing an existing and a non-existent key\n",
        "get_value_from_dict(sample_dict, 'name')\n",
        "get_value_from_dict(sample_dict, 'email')  # This key doesn't exist\n"
      ],
      "metadata": {
        "colab": {
          "base_uri": "https://localhost:8080/"
        },
        "id": "sidkg4JTKevv",
        "outputId": "b11f30ba-ce2b-486c-cd03-71d106b722df"
      },
      "execution_count": 14,
      "outputs": [
        {
          "output_type": "stream",
          "name": "stdout",
          "text": [
            "Value for 'name': Alice\n",
            "Error: Key 'email' not found in the dictionary.\n"
          ]
        }
      ]
    },
    {
      "cell_type": "markdown",
      "source": [
        "#Q.12. Write a program that demonstrates using multiple except blocks to handle different types of exceptions ."
      ],
      "metadata": {
        "id": "dfD8Nn22Kgck"
      }
    },
    {
      "cell_type": "code",
      "source": [
        "def perform_operations():\n",
        "    try:\n",
        "        # Input numbers from the user\n",
        "        num1 = int(input(\"Enter the first number: \"))\n",
        "        num2 = int(input(\"Enter the second number: \"))\n",
        "\n",
        "        # Perform division\n",
        "        result = num1 / num2\n",
        "        print(f\"Result of division: {result}\")\n",
        "\n",
        "        # Accessing a key in a dictionary\n",
        "        sample_dict = {'a': 1, 'b': 2}\n",
        "        key = input(\"Enter a dictionary key to access (a or b): \")\n",
        "        print(f\"Value: {sample_dict[key]}\")\n",
        "\n",
        "    except ZeroDivisionError:\n",
        "        print(\"Error: Division by zero is not allowed.\")\n",
        "\n",
        "    except ValueError:\n",
        "        print(\"Error: Invalid input. Please enter numeric values.\")\n",
        "\n",
        "    except KeyError:\n",
        "        print(\"Error: The specified key does not exist in the dictionary.\")\n",
        "\n",
        "    except Exception as e:\n",
        "        print(f\"An unexpected error occurred: {e}\")\n",
        "\n",
        "# Run the function\n",
        "perform_operations()\n"
      ],
      "metadata": {
        "colab": {
          "base_uri": "https://localhost:8080/"
        },
        "id": "tBFuuTqGKoX4",
        "outputId": "8b682520-0b8e-4951-adf3-9f5e5eaff00b"
      },
      "execution_count": 15,
      "outputs": [
        {
          "output_type": "stream",
          "name": "stdout",
          "text": [
            "Enter the first number: 25\n",
            "Enter the second number: 37\n",
            "Result of division: 0.6756756756756757\n",
            "Enter a dictionary key to access (a or b): a\n",
            "Value: 1\n"
          ]
        }
      ]
    },
    {
      "cell_type": "markdown",
      "source": [
        "#Q.13. How would you check if a file exists before attempting to read it in Python ?"
      ],
      "metadata": {
        "id": "yaCPKZ-RK6Oq"
      }
    },
    {
      "cell_type": "code",
      "source": [
        "import os\n",
        "\n",
        "filename = 'example.txt'\n",
        "\n",
        "if os.path.exists(filename):\n",
        "    with open(filename, 'r') as file:\n",
        "        content = file.read()\n",
        "        print(\"File content:\\n\", content)\n",
        "else:\n",
        "    print(f\"Error: The file '{filename}' does not exist.\")\n"
      ],
      "metadata": {
        "colab": {
          "base_uri": "https://localhost:8080/"
        },
        "id": "dmCYrWlvLFAN",
        "outputId": "4cb6f978-8779-4e84-d463-a156ef2a0248"
      },
      "execution_count": 16,
      "outputs": [
        {
          "output_type": "stream",
          "name": "stdout",
          "text": [
            "File content:\n",
            " Hello, world!This is a new line of text.\n",
            "\n"
          ]
        }
      ]
    },
    {
      "cell_type": "markdown",
      "source": [
        "#Q.14. Write a program that uses the logging module to log both informational and error messages."
      ],
      "metadata": {
        "id": "QAjLfRKnLl1X"
      }
    },
    {
      "cell_type": "code",
      "source": [
        "import logging\n",
        "\n",
        "# Configure the logging system\n",
        "logging.basicConfig(\n",
        "    filename='app.log',           # Log file name\n",
        "    level=logging.INFO,           # Minimum level to capture\n",
        "    format='%(asctime)s - %(levelname)s - %(message)s'\n",
        ")\n",
        "\n",
        "def divide(a, b):\n",
        "    try:\n",
        "        result = a / b\n",
        "        logging.info(f\"Division successful: {a} / {b} = {result}\")\n",
        "        return result\n",
        "    except ZeroDivisionError:\n",
        "        logging.error(\"Attempted division by zero: %s / %s\", a, b)\n",
        "        return None\n",
        "\n",
        "def main():\n",
        "    logging.info(\"Program started\")\n",
        "\n",
        "    # Example divisions\n",
        "    divide(10, 2)    # Should log INFO\n",
        "    divide(5, 0)     # Should log ERROR\n",
        "\n",
        "    logging.info(\"Program finished\")\n",
        "\n",
        "if __name__ == \"__main__\":\n",
        "    main()\n"
      ],
      "metadata": {
        "colab": {
          "base_uri": "https://localhost:8080/"
        },
        "id": "ofZex_gzL57_",
        "outputId": "74269b2f-32dd-4926-d977-0dd564cb7664"
      },
      "execution_count": 18,
      "outputs": [
        {
          "output_type": "stream",
          "name": "stderr",
          "text": [
            "ERROR:root:Attempted division by zero: 5 / 0\n"
          ]
        }
      ]
    },
    {
      "cell_type": "markdown",
      "source": [
        "#Q.15. Write a Python program that prints the content of a file and handles the case when the file is empty ."
      ],
      "metadata": {
        "id": "yb8uNi1-L9Nz"
      }
    },
    {
      "cell_type": "code",
      "source": [
        "def print_file_content(filename):\n",
        "    try:\n",
        "        with open(filename, 'r') as file:\n",
        "            content = file.read()\n",
        "            if not content.strip():  # Check if the file is empty or contains only whitespace\n",
        "                print(f\"The file '{filename}' is empty.\")\n",
        "            else:\n",
        "                print(f\"Contents of '{filename}':\\n\")\n",
        "                print(content)\n",
        "    except FileNotFoundError:\n",
        "        print(f\"Error: The file '{filename}' was not found.\")\n",
        "    except IOError as e:\n",
        "        print(f\"An I/O error occurred: {e}\")\n",
        "\n",
        "# Example usage\n",
        "file_name = 'example.txt'\n",
        "print_file_content(file_name)\n"
      ],
      "metadata": {
        "colab": {
          "base_uri": "https://localhost:8080/"
        },
        "id": "hC4qeBCNMJt4",
        "outputId": "f1110a3f-4fb0-42dd-a937-c3cb25b75030"
      },
      "execution_count": 19,
      "outputs": [
        {
          "output_type": "stream",
          "name": "stdout",
          "text": [
            "Contents of 'example.txt':\n",
            "\n",
            "Hello, world!This is a new line of text.\n",
            "\n"
          ]
        }
      ]
    },
    {
      "cell_type": "markdown",
      "source": [
        "#Q.16. Demonstrate how to use memory profiling to check the memory usage of a small program ."
      ],
      "metadata": {
        "id": "OAdcSm2zMTkn"
      }
    },
    {
      "cell_type": "code",
      "source": [
        "from  memory_profiler import profile\n",
        "\n",
        "@profile\n",
        "def my_function():\n",
        "    # Your code here\n",
        "    pass\n",
        "# To run this from the command line and see memory usage:\n",
        "# python -m memory_profiler your_script.py"
      ],
      "metadata": {
        "id": "Bs4G0e2WNHBx"
      },
      "execution_count": 25,
      "outputs": []
    },
    {
      "cell_type": "markdown",
      "source": [
        "#Q.17. Write a Python program to create and write a list of numbers to a file, one number per line ."
      ],
      "metadata": {
        "id": "aWTTvgWDNpK5"
      }
    },
    {
      "cell_type": "code",
      "source": [
        "def write_numbers_to_file(filename, numbers):\n",
        "    try:\n",
        "        with open(filename, 'w') as file:\n",
        "            for number in numbers:\n",
        "                file.write(f\"{number}\\n\")\n",
        "        print(f\"Numbers written to '{filename}' successfully.\")\n",
        "    except IOError as e:\n",
        "        print(f\"An I/O error occurred: {e}\")\n",
        "\n",
        "# Example usage\n",
        "number_list = list(range(1, 11))  # List of numbers from 1 to 10\n",
        "write_numbers_to_file('numbers.txt', number_list)\n"
      ],
      "metadata": {
        "colab": {
          "base_uri": "https://localhost:8080/"
        },
        "id": "5_e48Q1tNxDT",
        "outputId": "666605fc-f0a9-410d-83d6-1e06bb192337"
      },
      "execution_count": 26,
      "outputs": [
        {
          "output_type": "stream",
          "name": "stdout",
          "text": [
            "Numbers written to 'numbers.txt' successfully.\n"
          ]
        }
      ]
    },
    {
      "cell_type": "markdown",
      "source": [
        "#Q.18. How would you implement a basic logging setup that logs to a file with rotation after 1MB."
      ],
      "metadata": {
        "id": "9-zAlKpBN5KE"
      }
    },
    {
      "cell_type": "code",
      "source": [
        "import logging\n",
        "from logging.handlers import RotatingFileHandler\n",
        "\n",
        "# Set up rotating file handler\n",
        "log_file = 'app.log'\n",
        "max_file_size = 1 * 1024 * 1024  # 1 MB\n",
        "backup_count = 3  # Keep up to 3 backup log files\n",
        "\n",
        "# Create logger\n",
        "logger = logging.getLogger('my_logger')\n",
        "logger.setLevel(logging.INFO)\n",
        "\n",
        "# Create handler with rotation\n",
        "handler = RotatingFileHandler(\n",
        "    log_file,\n",
        "    maxBytes=max_file_size,\n",
        "    backupCount=backup_count\n",
        ")\n",
        "\n",
        "# Create and set formatter\n",
        "formatter = logging.Formatter('%(asctime)s - %(levelname)s - %(message)s')\n",
        "handler.setFormatter(formatter)\n",
        "\n",
        "# Add handler to logger\n",
        "logger.addHandler(handler)\n",
        "\n",
        "# Example log entries to fill up the log\n",
        "for i in range(10000):\n",
        "    logger.info(f\"This is log entry #{i}\")\n"
      ],
      "metadata": {
        "id": "mzSWCAY3OWGi"
      },
      "execution_count": null,
      "outputs": []
    },
    {
      "cell_type": "markdown",
      "source": [
        "#Q.19. Write a program that handles both IndexError and KeyError using a try-except block ."
      ],
      "metadata": {
        "id": "14CPvTwxOju3"
      }
    },
    {
      "cell_type": "code",
      "source": [
        "def access_elements():\n",
        "    my_list = [10, 20, 30]\n",
        "    my_dict = {'a': 1, 'b': 2}\n",
        "\n",
        "    try:\n",
        "        # Attempt to access an invalid list index\n",
        "        print(\"List element at index 5:\", my_list[5])\n",
        "\n",
        "        # Attempt to access a missing key in the dictionary\n",
        "        print(\"Value for key 'z':\", my_dict['z'])\n",
        "\n",
        "    except IndexError:\n",
        "        print(\"Error: List index is out of range.\")\n",
        "\n",
        "    except KeyError:\n",
        "        print(\"Error: Key not found in the dictionary.\")\n",
        "\n",
        "    except Exception as e:\n",
        "        print(f\"An unexpected error occurred: {e}\")\n",
        "\n",
        "# Run the function\n",
        "access_elements()\n"
      ],
      "metadata": {
        "id": "JrNWspl7O5yJ"
      },
      "execution_count": null,
      "outputs": []
    },
    {
      "cell_type": "markdown",
      "source": [
        "#Q.20. How would you open a file and read its contents using a context manager in Python."
      ],
      "metadata": {
        "id": "IGsckxm8PCNK"
      }
    },
    {
      "cell_type": "code",
      "source": [
        "filename = 'example.txt'\n",
        "\n",
        "try:\n",
        "    with open(filename, 'r') as file:\n",
        "        content = file.read()\n",
        "        print(\"File contents:\\n\", content)\n",
        "except FileNotFoundError:\n",
        "    print(f\"Error: The file '{filename}' was not found.\")\n",
        "except IOError as e:\n",
        "    print(f\"An I/O error occurred: {e}\")\n"
      ],
      "metadata": {
        "colab": {
          "base_uri": "https://localhost:8080/"
        },
        "id": "j7BzLxqyPPZN",
        "outputId": "6b72bba8-57e9-43bb-a155-c1349c369686"
      },
      "execution_count": 28,
      "outputs": [
        {
          "output_type": "stream",
          "name": "stdout",
          "text": [
            "File contents:\n",
            " Hello, world!This is a new line of text.\n",
            "\n"
          ]
        }
      ]
    },
    {
      "cell_type": "markdown",
      "source": [
        "#Q.21. Write a Python program that reads a file and prints the number of occurrences of a specific word."
      ],
      "metadata": {
        "id": "J891NHrIPjvF"
      }
    },
    {
      "cell_type": "code",
      "source": [
        "import string\n",
        "\n",
        "def count_word_in_file(filename, target_word):\n",
        "    try:\n",
        "        with open(filename, 'r') as file:\n",
        "            content = file.read()\n",
        "\n",
        "            # Normalize: remove punctuation, convert to lowercase\n",
        "            translator = str.maketrans('', '', string.punctuation)\n",
        "            content = content.translate(translator).lower()\n",
        "            words = content.split()\n",
        "\n",
        "            # Count the word\n",
        "            count = words.count(target_word.lower())\n",
        "            print(f\"The word '{target_word}' occurs {count} time(s) in '{filename}'.\")\n",
        "\n",
        "    except FileNotFoundError:\n",
        "        print(f\"Error: File '{filename}' not found.\")\n",
        "    except IOError as e:\n",
        "        print(f\"An I/O error occurred: {e}\")\n",
        "\n",
        "# Example usage\n",
        "file_name = 'example.txt'\n",
        "word_to_search = 'Python'\n",
        "count_word_in_file(file_name, word_to_search)\n"
      ],
      "metadata": {
        "colab": {
          "base_uri": "https://localhost:8080/"
        },
        "id": "LV2JAedvPu7l",
        "outputId": "a1837e0b-ba8e-486c-df90-f698d63ecfd0"
      },
      "execution_count": 29,
      "outputs": [
        {
          "output_type": "stream",
          "name": "stdout",
          "text": [
            "The word 'Python' occurs 0 time(s) in 'example.txt'.\n"
          ]
        }
      ]
    },
    {
      "cell_type": "markdown",
      "source": [
        "#Q.22. How can you check if a file is empty before attempting to read its contents ."
      ],
      "metadata": {
        "id": "dQOR5fd3P6He"
      }
    },
    {
      "cell_type": "code",
      "source": [
        "import os\n",
        "\n",
        "filename = 'example.txt'\n",
        "\n",
        "if os.path.exists(filename):\n",
        "    if os.path.getsize(filename) == 0:\n",
        "        print(f\"The file '{filename}' is empty.\")\n",
        "    else:\n",
        "        with open(filename, 'r') as file:\n",
        "            content = file.read()\n",
        "            print(\"File content:\\n\", content)\n",
        "else:\n",
        "    print(f\"File '{filename}' does not exist.\")\n"
      ],
      "metadata": {
        "colab": {
          "base_uri": "https://localhost:8080/"
        },
        "id": "cUX0mmc3QDrO",
        "outputId": "26a3a2cc-8e8b-4ef1-ac37-0734f7671b77"
      },
      "execution_count": 30,
      "outputs": [
        {
          "output_type": "stream",
          "name": "stdout",
          "text": [
            "File content:\n",
            " Hello, world!This is a new line of text.\n",
            "\n"
          ]
        }
      ]
    },
    {
      "cell_type": "markdown",
      "source": [
        "#Q.23. Write a Python program that writes to a log file when an error occurs during file handling ."
      ],
      "metadata": {
        "id": "Vgx7smLzQKwI"
      }
    },
    {
      "cell_type": "code",
      "source": [
        "import logging\n",
        "\n",
        "# Set up logging to a file\n",
        "logging.basicConfig(\n",
        "    filename='file_errors.log',\n",
        "    level=logging.ERROR,\n",
        "    format='%(asctime)s - %(levelname)s - %(message)s'\n",
        ")\n",
        "\n",
        "def read_file(filename):\n",
        "    try:\n",
        "        with open(filename, 'r') as file:\n",
        "            content = file.read()\n",
        "            print(\"File content:\\n\", content)\n",
        "    except FileNotFoundError:\n",
        "        logging.error(f\"File not found: {filename}\")\n",
        "        print(f\"Error: The file '{filename}' does not exist.\")\n",
        "    except IOError as e:\n",
        "        logging.error(f\"I/O error while accessing '{filename}': {e}\")\n",
        "        print(f\"An I/O error occurred while reading '{filename}'.\")\n",
        "\n",
        "# Example usage\n",
        "file_name = 'nonexistent.txt'  # Use an invalid filename to trigger logging\n",
        "read_file(file_name)\n"
      ],
      "metadata": {
        "colab": {
          "base_uri": "https://localhost:8080/"
        },
        "id": "LH6HKQIaQQ3T",
        "outputId": "8c5c40a7-8210-4db5-8fa9-afb081ba1776"
      },
      "execution_count": 31,
      "outputs": [
        {
          "output_type": "stream",
          "name": "stderr",
          "text": [
            "ERROR:root:File not found: nonexistent.txt\n"
          ]
        },
        {
          "output_type": "stream",
          "name": "stdout",
          "text": [
            "Error: The file 'nonexistent.txt' does not exist.\n"
          ]
        }
      ]
    }
  ]
}